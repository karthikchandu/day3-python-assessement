{
 "cells": [
  {
   "cell_type": "code",
   "execution_count": 3,
   "metadata": {},
   "outputs": [
    {
     "name": "stdout",
     "output_type": "stream",
     "text": [
      "enter the number\t 90\n",
      "A\n"
     ]
    }
   ],
   "source": [
    "n = int(input(\"enter the number\\t \"))\n",
    "if n>=90:\n",
    "    print(\"A\")\n",
    "elif n>=80:\n",
    "    print(\"B\")\n",
    "elif n>=70:\n",
    "    print(\"C\")\n",
    "elif n>=60:\n",
    "    print(\"D\")\n",
    "elif n>=50:\n",
    "    print(\"E\")\n",
    "else:\n",
    "    print(\"Fail\")"
   ]
  },
  {
   "cell_type": "code",
   "execution_count": 2,
   "metadata": {},
   "outputs": [
    {
     "name": "stdout",
     "output_type": "stream",
     "text": [
      "238\n",
      "248\n",
      "228\n",
      "258\n"
     ]
    }
   ],
   "source": [
    "import random\n",
    "s = random.randrange(0,250)\n",
    "print(s)\n",
    "p =s+10\n",
    "t =s-10\n",
    "h = s+20\n",
    "print(p)\n",
    "print(t)\n",
    "print(h)\n",
    "i = int(input(\"players guess is\"))\n",
    "if i<1:\n",
    "    print(\"Reduce your expectations from 2020 cricket\")\n",
    "elif i>250:\n",
    "    print(\"Reduce your expectations from 2020 cricket\")\n",
    "elif i in random.randrange(s,p):\n",
    "    print(\"Close by you are true indian\")\n",
    "elif i in random.randrange(s,t):\n",
    "     print(\"Close by you are true indian\")\n",
    "elif i in random.randrange(s,h):\n",
    "    print(\"You dont watch IPL match\")\n",
    "    \n",
    "    "
   ]
  },
  {
   "cell_type": "code",
   "execution_count": null,
   "metadata": {},
   "outputs": [],
   "source": [
    "import random\n",
    "p = random.randrange(0,344)\n",
    "p"
   ]
  },
  {
   "cell_type": "code",
   "execution_count": null,
   "metadata": {},
   "outputs": [],
   "source": [
    "i = p+10\n",
    "i"
   ]
  },
  {
   "cell_type": "code",
   "execution_count": null,
   "metadata": {},
   "outputs": [],
   "source": []
  }
 ],
 "metadata": {
  "kernelspec": {
   "display_name": "Python 3",
   "language": "python",
   "name": "python3"
  },
  "language_info": {
   "codemirror_mode": {
    "name": "ipython",
    "version": 3
   },
   "file_extension": ".py",
   "mimetype": "text/x-python",
   "name": "python",
   "nbconvert_exporter": "python",
   "pygments_lexer": "ipython3",
   "version": "3.7.4"
  }
 },
 "nbformat": 4,
 "nbformat_minor": 2
}
